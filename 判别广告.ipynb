{
 "cells": [
  {
   "cell_type": "code",
   "execution_count": 1,
   "metadata": {},
   "outputs": [],
   "source": [
    "from selenium import webdriver\n",
    "from bs4 import BeautifulSoup\n",
    "from pandas import DataFrame as df\n",
    "import pandas\n",
    "import requests\n",
    "import re\n",
    "import time\n",
    "import sys\n",
    "import os\n",
    "from bilibili_api import video\n",
    "from tqdm import tqdm"
   ]
  },
  {
   "cell_type": "markdown",
   "metadata": {},
   "source": [
    "### 赞助合作"
   ]
  },
  {
   "cell_type": "code",
   "execution_count": 15,
   "metadata": {},
   "outputs": [],
   "source": [
    "#有赞助合作\n",
    "bvid_pattern = re.compile(r\"BV[0-9a-zA-Z]{10}\")\n",
    "BVID = bvid_pattern.search('https://www.bilibili.com/video/BV1gq4y1Z7Ep/').group(0)\n",
    "video_info = video.get_video_info(bvid=BVID)\n",
    "cid = video_info[\"cid\"]"
   ]
  },
  {
   "cell_type": "code",
   "execution_count": 7,
   "metadata": {},
   "outputs": [],
   "source": [
    "#无赞助合作\n",
    "bvid_pattern = re.compile(r\"BV[0-9a-zA-Z]{10}\")\n",
    "BVID= bvid_pattern.search('https://www.bilibili.com/video/BV1d44y197xi/').group(0)\n",
    "video_info = video.get_video_info(bvid=BVID)\n",
    "cid = video_info[\"cid\"]"
   ]
  },
  {
   "cell_type": "code",
   "execution_count": 8,
   "metadata": {},
   "outputs": [
    {
     "name": "stdout",
     "output_type": "stream",
     "text": [
      "0\n"
     ]
    }
   ],
   "source": [
    "spon=0\n",
    "try:\n",
    "    print(video_info[\"staff\"][1]['title'])\n",
    "    if video_info[\"staff\"][1]['title']=='赞助商':\n",
    "        spon=1\n",
    "except:\n",
    "    pass\n",
    "print(spon)"
   ]
  },
  {
   "cell_type": "markdown",
   "metadata": {},
   "source": [
    "### 弹幕"
   ]
  },
  {
   "cell_type": "code",
   "execution_count": 16,
   "metadata": {},
   "outputs": [],
   "source": [
    "import requests\n",
    "from lxml import etree\n",
    "def get_danmu(BVID,cid):\n",
    "    danmus = video.get_danmaku(bvid=BVID)\n",
    "    url = 'https://comment.bilibili.com/%d.xml'%(cid)\n",
    "    # 发送请求\n",
    "    response = requests.get(url)\n",
    "    xml = etree.fromstring(response.content)\n",
    "    # 解析数据\n",
    "    dms= xml.xpath(\"/i/d/text()\")\n",
    "    return dms\n",
    "danmus=get_danmu(BVID,cid)"
   ]
  },
  {
   "cell_type": "code",
   "execution_count": 24,
   "metadata": {},
   "outputs": [
    {
     "name": "stdout",
     "output_type": "stream",
     "text": [
      "1\n"
     ]
    }
   ],
   "source": [
    "qia=0\n",
    "for i in danmus:\n",
    "    if i=='猝不及防'or'快跑'or'恰饭'or'金主':\n",
    "        qia=1\n",
    "        break\n",
    "print(qia)"
   ]
  },
  {
   "cell_type": "markdown",
   "metadata": {},
   "source": [
    "### 评论置顶 "
   ]
  },
  {
   "cell_type": "code",
   "execution_count": 8,
   "metadata": {},
   "outputs": [],
   "source": [
    "#有\n",
    "bvid_pattern = re.compile(r\"BV[0-9a-zA-Z]{10}\")\n",
    "BVID= bvid_pattern.search('https://www.bilibili.com/video/BV1nG4y177ky/').group(0)\n",
    "video_info = video.get_video_info(bvid=BVID)\n",
    "cid = video_info[\"cid\"]"
   ]
  },
  {
   "cell_type": "code",
   "execution_count": null,
   "metadata": {
    "collapsed": true
   },
   "outputs": [],
   "source": [
    "coms1=[]\n",
    "#BVID = \"BV1cG4y127Dy\"\n",
    "comments = video.get_comments(bvid=BVID)\n",
    "i=0\n",
    "for com in comments:\n",
    "    #print(comments[i]['content']['message'])\n",
    "    coms1.append(comments[i]['content']['message'])\n",
    "    i=i+1 \n",
    "print(coms1)"
   ]
  },
  {
   "cell_type": "code",
   "execution_count": 17,
   "metadata": {},
   "outputs": [],
   "source": [
    "#无\n",
    "bvid_pattern = re.compile(r\"BV[0-9a-zA-Z]{10}\")\n",
    "BVID= bvid_pattern.search('https://www.bilibili.com/video/BV1cG4y127Dy/').group(0)\n",
    "video_info = video.get_video_info(bvid=BVID)\n",
    "cid = video_info[\"cid\"]"
   ]
  },
  {
   "cell_type": "code",
   "execution_count": 18,
   "metadata": {},
   "outputs": [
    {
     "name": "stdout",
     "output_type": "stream",
     "text": [
      "['休番特辑！', '闪子 第四季可以开始了吧 闪子 闪子 你带我走吧闪子', '想看解密！', '啥时候学哒？晨艺同学[doge]', '完全看不懂', '真的好神奇啊', '看出来王老师有认真准备这个魔术了，真的毫无破绽[点赞][点赞][点赞][点赞]', '想要看解密[脱单doge]', '小闪，第四季什么时候来啊？', '这个扑克牌有玄机的[doge]', '是剪辑了的？还是真的？我想看揭秘闪子！', '有解密吗', '接着更闪子！', '谁能告诉我究竟是为什么 看完王老师魔术真的太好奇了', '第四季什么时候来呀！！闪子！！没有你我可怎么活呀', '闪亮所有的工作人员都辛苦啦！！所以第四季什么时候[脱单doge]没有小闪我可怎么活啊', '晨艺好棒！', '第四季什么时候呀，小闪[星星眼]']\n"
     ]
    }
   ],
   "source": [
    "coms=[]\n",
    "#BVID = \"BV1cG4y127Dy\"\n",
    "comments = video.get_comments(bvid=BVID)\n",
    "i=0\n",
    "for com in comments:\n",
    "    #print(comments[i]['content']['message'])\n",
    "    coms.append(comments[i]['content']['message'])\n",
    "    i=i+1 \n",
    "print(coms)"
   ]
  },
  {
   "cell_type": "code",
   "execution_count": 16,
   "metadata": {},
   "outputs": [
    {
     "name": "stdout",
     "output_type": "stream",
     "text": [
      "1147988241\n"
     ]
    }
   ],
   "source": [
    "print(video_info[\"owner\"]['mid'])\n",
    "for i in range(len(coms)):   \n",
    "    if comments[i]['member']['mid']==video_info[\"owner\"]['mid']:\n",
    "        print(comments[i]['member']['mid'])         \n",
    "        print(1)"
   ]
  },
  {
   "cell_type": "code",
   "execution_count": 46,
   "metadata": {},
   "outputs": [],
   "source": [
    "def is_contain(aa,A):\n",
    "    special_chinese =aa\n",
    "    literal_string =A\n",
    "    return special_chinese in literal_string"
   ]
  },
  {
   "cell_type": "code",
   "execution_count": 30,
   "metadata": {
    "collapsed": true
   },
   "outputs": [
    {
     "data": {
      "text/plain": [
       "['休番特辑！',\n",
       " '闪子 第四季可以开始了吧 闪子 闪子 你带我走吧闪子',\n",
       " '想看解密！',\n",
       " '啥时候学哒？晨艺同学[doge]',\n",
       " '完全看不懂',\n",
       " '真的好神奇啊',\n",
       " '看出来王老师有认真准备这个魔术了，真的毫无破绽[点赞][点赞][点赞][点赞]',\n",
       " '想要看解密[脱单doge]',\n",
       " '小闪，第四季什么时候来啊？',\n",
       " '这个扑克牌有玄机的[doge]',\n",
       " '是剪辑了的？还是真的？我想看揭秘闪子！',\n",
       " '有解密吗',\n",
       " '接着更闪子！',\n",
       " '谁能告诉我究竟是为什么 看完王老师魔术真的太好奇了',\n",
       " '第四季什么时候来呀！！闪子！！没有你我可怎么活呀',\n",
       " '闪亮所有的工作人员都辛苦啦！！所以第四季什么时候[脱单doge]没有小闪我可怎么活啊',\n",
       " '晨艺好棒！',\n",
       " '第四季什么时候呀，小闪[星星眼]']"
      ]
     },
     "execution_count": 30,
     "metadata": {},
     "output_type": "execute_result"
    }
   ],
   "source": [
    "coms\n",
    "special=['羊毛','优惠','元','福利','闪子']"
   ]
  },
  {
   "cell_type": "code",
   "execution_count": 49,
   "metadata": {},
   "outputs": [
    {
     "data": {
      "text/plain": [
       "True"
      ]
     },
     "execution_count": 49,
     "metadata": {},
     "output_type": "execute_result"
    }
   ],
   "source": [
    "for i in special:\n",
    "    for j in coms:\n",
    "        zhiding=is_contain(i,j)\n",
    "        if zhiding:\n",
    "            break\n",
    "\n",
    "zhiding"
   ]
  },
  {
   "cell_type": "code",
   "execution_count": null,
   "metadata": {},
   "outputs": [],
   "source": []
  }
 ],
 "metadata": {
  "kernelspec": {
   "display_name": "Python 3",
   "language": "python",
   "name": "python3"
  },
  "language_info": {
   "codemirror_mode": {
    "name": "ipython",
    "version": 3
   },
   "file_extension": ".py",
   "mimetype": "text/x-python",
   "name": "python",
   "nbconvert_exporter": "python",
   "pygments_lexer": "ipython3",
   "version": "3.7.4"
  }
 },
 "nbformat": 4,
 "nbformat_minor": 2
}
